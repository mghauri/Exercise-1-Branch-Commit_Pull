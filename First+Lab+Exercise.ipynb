{
 "cells": [
  {
   "cell_type": "code",
   "execution_count": 2,
   "metadata": {
    "collapsed": true
   },
   "outputs": [],
   "source": [
    "# Your mission:\n",
    "# -fork this code to your own repository\n",
    "# -try running the code in Jupyter\n",
    "# -edit the code to produce the desired output \n",
    "# -add comments to describe the purpose of each step\n",
    "# -save your code\n",
    "# -commit the changes in GitHub\n",
    "# -submit a pull request to merge your altered code to the source repository\n",
    "# -Cooper will comment on the pull request to give you feedback"
   ]
  },
  {
   "cell_type": "code",
   "execution_count": 3,
   "metadata": {
    "collapsed": true
   },
   "outputs": [],
   "source": [
    "# Code goal: create a 2x4 matrix with the following values\n",
    "# Row one: the first four digits of pi, without the decimal point (already done for you)\n",
    "# Row two: the first four digits of e, without the decimal point\n",
    "\n",
    "# OPTIONAL: append to the matrix above.\n",
    "# Rows one and two: same as above\n",
    "# Row three: the first 4 digits of pi*3, without the decimal point\n",
    "# Row four: the first four digits of e/4, without the decimal point"
   ]
  },
  {
   "cell_type": "code",
   "execution_count": 4,
   "metadata": {
    "collapsed": false
   },
   "outputs": [
    {
     "data": {
      "text/plain": [
       "3.141592653589793"
      ]
     },
     "execution_count": 4,
     "metadata": {},
     "output_type": "execute_result"
    }
   ],
   "source": [
    "# what is \"import math\" doing here? \"import math\" is used to allow the math function to be used to retrieve the local value of \"pi\"\n",
    "import math\n",
    "math.pi"
   ]
  },
  {
   "cell_type": "code",
   "execution_count": 29,
   "metadata": {
    "collapsed": false
   },
   "outputs": [
    {
     "data": {
      "text/plain": [
       "2.718281828459045"
      ]
     },
     "execution_count": 29,
     "metadata": {},
     "output_type": "execute_result"
    }
   ],
   "source": [
    "import math\n",
    "math.e"
   ]
  },
  {
   "cell_type": "code",
   "execution_count": 24,
   "metadata": {
    "collapsed": false
   },
   "outputs": [
    {
     "name": "stdout",
     "output_type": "stream",
     "text": [
      "3.141592653589793\n"
     ]
    }
   ],
   "source": [
    "# We are using definding Pi as the value retrieved from python via \"math.pi\"\n",
    "Pi = math.pi\n",
    "digitsOfPi = str(Pi) # \"str()\" takes data and forces it into a string which can be used to retrieve simple dats types. what  How is \"digitsOfPi\" is different from \"Pi\"? because it argues the data into a string that can be used to extract a particular argument rather than just the imported value of pi itself #\n",
    "print(digitsOfPi)"
   ]
  },
  {
   "cell_type": "code",
   "execution_count": 31,
   "metadata": {
    "collapsed": false
   },
   "outputs": [
    {
     "name": "stdout",
     "output_type": "stream",
     "text": [
      "2.718281828459045\n"
     ]
    }
   ],
   "source": [
    "# This line is used to define \"e\" to retrieve the \"math.e\" value from python console\n",
    "ee = math.e\n",
    "digitsOfee = str(ee) # \"str()\" takes data and forces it into a string which can be used to retrieve simple dats types. what  How is \"digitsOfPi\" is different from \"Pi\"? because it argues the data into a string that can be used to extract a particular object rather than just the imported value of pi itself #\n",
    "print(digitsOfee)"
   ]
  },
  {
   "cell_type": "code",
   "execution_count": 33,
   "metadata": {
    "collapsed": false
   },
   "outputs": [],
   "source": [
    "# This line allows me to define certain variables to look into the aforementioned string that we defined as \"digitsOfe\" and to then define different variables to access a certain \"[character]\"\n",
    "f = digitsOfee[0]\n",
    "g = digitsOfee[2] # we try and obtain the second character since the first character would retrieve the decimal point\n",
    "h = digitsOfee[3]\n",
    "i = digitsOfee[4]"
   ]
  },
  {
   "cell_type": "code",
   "execution_count": 36,
   "metadata": {
    "collapsed": false
   },
   "outputs": [
    {
     "data": {
      "text/plain": [
       "'8'"
      ]
     },
     "execution_count": 36,
     "metadata": {},
     "output_type": "execute_result"
    }
   ],
   "source": [
    "i"
   ]
  },
  {
   "cell_type": "code",
   "execution_count": 7,
   "metadata": {
    "collapsed": true
   },
   "outputs": [],
   "source": [
    "# This section allows us to use the \"str()\" that was defined as \"digitsOfPi\" so that we could output selected parts of the stringed sequence that we define to a particular variable\n",
    "a = digitsOfPi[0]\n",
    "b = digitsOfPi[2]\n",
    "c = digitsOfPi[3]\n",
    "d = digitsOfPi[4]"
   ]
  },
  {
   "cell_type": "code",
   "execution_count": 64,
   "metadata": {
    "collapsed": false
   },
   "outputs": [
    {
     "data": {
      "text/plain": [
       "'3'"
      ]
     },
     "execution_count": 64,
     "metadata": {},
     "output_type": "execute_result"
    }
   ],
   "source": [
    "a"
   ]
  },
  {
   "cell_type": "code",
   "execution_count": 55,
   "metadata": {
    "collapsed": false
   },
   "outputs": [
    {
     "name": "stdout",
     "output_type": "stream",
     "text": [
      "9.42477796076938\n"
     ]
    }
   ],
   "source": [
    "Pi3 = math.pi * 3\n",
    "digitsOfPi3 = str(Pi3) # \"str()\" takes data and forces it into a string which can be used to retrieve simple dats types. what  How is \"digitsOfPi\" is different from \"Pi\"? because it argues the data into a string that can be used to extract a particular argument rather than just the imported value of pi itself #\n",
    "print(digitsOfPi3)"
   ]
  },
  {
   "cell_type": "code",
   "execution_count": 60,
   "metadata": {
    "collapsed": true
   },
   "outputs": [],
   "source": [
    "aa = digitsOfPi3[0]\n",
    "bb = digitsOfPi3[2]\n",
    "cc = digitsOfPi3[3]\n",
    "dd = digitsOfPi3[4]"
   ]
  },
  {
   "cell_type": "code",
   "execution_count": 72,
   "metadata": {
    "collapsed": false
   },
   "outputs": [
    {
     "data": {
      "text/plain": [
       "'4'"
      ]
     },
     "execution_count": 72,
     "metadata": {},
     "output_type": "execute_result"
    }
   ],
   "source": [
    "dd"
   ]
  },
  {
   "cell_type": "code",
   "execution_count": 73,
   "metadata": {
    "collapsed": false
   },
   "outputs": [
    {
     "name": "stdout",
     "output_type": "stream",
     "text": [
      "0.6795704571147613\n"
     ]
    }
   ],
   "source": [
    "ee4 = math.e/4 #This simply assigns a new variable to the obtained e value divided by 4\n",
    "digitsOfee4 = str(ee4) # \"str()\" takes data and forces it into a string which can be used to retrieve simple dats types. what  How is \"digitsOfPi\" is different from \"Pi\"? because it argues the data into a string that can be used to extract a particular argument rather than just the imported value of pi itself #\n",
    "print(digitsOfee4)"
   ]
  },
  {
   "cell_type": "code",
   "execution_count": 74,
   "metadata": {
    "collapsed": true
   },
   "outputs": [],
   "source": [
    "ff = digitsOfee4[0]\n",
    "gg = digitsOfee4[2]\n",
    "hh = digitsOfee4[3]\n",
    "ii = digitsOfee4[4]"
   ]
  },
  {
   "cell_type": "code",
   "execution_count": 78,
   "metadata": {
    "collapsed": false
   },
   "outputs": [
    {
     "data": {
      "text/plain": [
       "'0'"
      ]
     },
     "execution_count": 78,
     "metadata": {},
     "output_type": "execute_result"
    }
   ],
   "source": [
    "ff"
   ]
  },
  {
   "cell_type": "code",
   "execution_count": 44,
   "metadata": {
    "collapsed": false
   },
   "outputs": [
    {
     "data": {
      "text/plain": [
       "array(['3', '1', '4', '1'], \n",
       "      dtype='<U1')"
      ]
     },
     "execution_count": 44,
     "metadata": {},
     "output_type": "execute_result"
    }
   ],
   "source": [
    "# We are using the import function to allow the use of numpy statiscis when you execute the argument np\n",
    "import numpy as np\n",
    "firstRow =  np.array([a,b,c,d])\n",
    "firstRow"
   ]
  },
  {
   "cell_type": "code",
   "execution_count": 45,
   "metadata": {
    "collapsed": false
   },
   "outputs": [
    {
     "data": {
      "text/plain": [
       "array(['2', '7', '1', '8'], \n",
       "      dtype='<U1')"
      ]
     },
     "execution_count": 45,
     "metadata": {},
     "output_type": "execute_result"
    }
   ],
   "source": [
    " # We are using the import function to allow the use of numpy statiscis when you execute the argument np\n",
    "secondRow = np.array([f,g,h,i])\n",
    "secondRow"
   ]
  },
  {
   "cell_type": "code",
   "execution_count": 66,
   "metadata": {
    "collapsed": false
   },
   "outputs": [
    {
     "data": {
      "text/plain": [
       "array(['9', '4', '2', '4'], \n",
       "      dtype='<U1')"
      ]
     },
     "execution_count": 66,
     "metadata": {},
     "output_type": "execute_result"
    }
   ],
   "source": [
    "thirdRow = np.array([aa,bb,cc,dd])\n",
    "thirdRow"
   ]
  },
  {
   "cell_type": "code",
   "execution_count": 79,
   "metadata": {
    "collapsed": false
   },
   "outputs": [
    {
     "data": {
      "text/plain": [
       "array(['0', '6', '7', '9'], \n",
       "      dtype='<U1')"
      ]
     },
     "execution_count": 79,
     "metadata": {},
     "output_type": "execute_result"
    }
   ],
   "source": [
    "fourthRow = np.array([ff,gg,hh,ii])\n",
    "fourthRow"
   ]
  },
  {
   "cell_type": "code",
   "execution_count": 84,
   "metadata": {
    "collapsed": false
   },
   "outputs": [
    {
     "data": {
      "text/plain": [
       "array([['3', '1', '4', '1'],\n",
       "       ['2', '7', '1', '8']], \n",
       "      dtype='<U1')"
      ]
     },
     "execution_count": 84,
     "metadata": {},
     "output_type": "execute_result"
    }
   ],
   "source": [
    "first = np.vstack((firstRow,secondRow)) #I used the \"vstack\" function to stack the matrix and define it as the first part and the following line as the second part\n",
    "first"
   ]
  },
  {
   "cell_type": "code",
   "execution_count": 86,
   "metadata": {
    "collapsed": false
   },
   "outputs": [
    {
     "data": {
      "text/plain": [
       "array([['9', '4', '2', '4'],\n",
       "       ['0', '6', '7', '9']], \n",
       "      dtype='<U1')"
      ]
     },
     "execution_count": 86,
     "metadata": {},
     "output_type": "execute_result"
    }
   ],
   "source": [
    "second = np.vstack((thirdRow,fourthRow)) #Here I used the vstack to layer the 4 rows together into one matrix\n",
    "second"
   ]
  },
  {
   "cell_type": "code",
   "execution_count": 87,
   "metadata": {
    "collapsed": false
   },
   "outputs": [
    {
     "data": {
      "text/plain": [
       "array([['3', '1', '4', '1'],\n",
       "       ['2', '7', '1', '8'],\n",
       "       ['9', '4', '2', '4'],\n",
       "       ['0', '6', '7', '9']], \n",
       "      dtype='<U1')"
      ]
     },
     "execution_count": 87,
     "metadata": {},
     "output_type": "execute_result"
    }
   ],
   "source": [
    "# We use vstack function in order to vertically stack the two arrays that we defined as \"firstRow\" and \"secondRow\"\n",
    "CombinedMatrix = np.vstack((first,second))\n",
    "CombinedMatrix"
   ]
  },
  {
   "cell_type": "code",
   "execution_count": 88,
   "metadata": {
    "collapsed": false
   },
   "outputs": [
    {
     "data": {
      "text/plain": [
       "array([[3, 1, 4, 1],\n",
       "       [2, 7, 1, 8],\n",
       "       [9, 4, 2, 4],\n",
       "       [0, 6, 7, 9]])"
      ]
     },
     "execution_count": 88,
     "metadata": {},
     "output_type": "execute_result"
    }
   ],
   "source": [
    "# This section is used to cast the \"CombinedMatrix\" array as a int type which we define to a variable FinalMatrix and execute function\n",
    "FinalMatrix = CombinedMatrix.astype(int)\n",
    "FinalMatrix"
   ]
  },
  {
   "cell_type": "code",
   "execution_count": 89,
   "metadata": {
    "collapsed": false
   },
   "outputs": [
    {
     "data": {
      "text/plain": [
       "array([[3, 1, 4, 1],\n",
       "       [2, 7, 1, 8],\n",
       "       [9, 4, 2, 4],\n",
       "       [0, 6, 7, 9]])"
      ]
     },
     "execution_count": 89,
     "metadata": {},
     "output_type": "execute_result"
    }
   ],
   "source": [
    "FinalMatrix"
   ]
  },
  {
   "cell_type": "code",
   "execution_count": null,
   "metadata": {
    "collapsed": true
   },
   "outputs": [],
   "source": []
  }
 ],
 "metadata": {
  "anaconda-cloud": {},
  "kernelspec": {
   "display_name": "Python [conda root]",
   "language": "python",
   "name": "conda-root-py"
  },
  "language_info": {
   "codemirror_mode": {
    "name": "ipython",
    "version": 3
   },
   "file_extension": ".py",
   "mimetype": "text/x-python",
   "name": "python",
   "nbconvert_exporter": "python",
   "pygments_lexer": "ipython3",
   "version": "3.5.2"
  }
 },
 "nbformat": 4,
 "nbformat_minor": 1
}
